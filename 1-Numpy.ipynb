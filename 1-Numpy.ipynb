{
 "cells": [
  {
   "cell_type": "markdown",
   "id": "a2f9400f",
   "metadata": {},
   "source": [
    "# Numpy in Python for Data Science"
   ]
  },
  {
   "cell_type": "markdown",
   "id": "3ce682f0",
   "metadata": {},
   "source": [
    "### NumPy (Numerical Python)\n",
    "\n",
    "NumPy (Numerical Python) is an open source Python library that’s used in almost every field of science and engineering. It’s the universal standard for working with numerical data in Python, and it’s at the core of the scientific Python and PyData ecosystems. NumPy users include everyone from beginning coders to experienced researchers doing state-of-the-art scientific and industrial research and development. The NumPy API is used extensively in Pandas, SciPy, Matplotlib, scikit-learn, scikit-image and most other data science and scientific Python packages.\n",
    "\n",
    "The NumPy library contains multidimensional array and matrix data structures (you’ll find more information about this in later sections). It provides ndarray, a homogeneous n-dimensional array object, with methods to efficiently operate on it. NumPy can be used to perform a wide variety of mathematical operations on arrays. It adds powerful data structures to Python that guarantee efficient calculations with arrays and matrices and it supplies an enormous library of high-level mathematical functions that operate on these arrays and matrices.\n",
    "\n",
    "### Difference between a Python list and a NumPy array?\n",
    "\n",
    "NumPy gives you an enormous range of fast and efficient ways of creating arrays and manipulating numerical data inside them. While a Python list can contain different data types within a single list, all of the elements in a NumPy array should be homogeneous. The mathematical operations that are meant to be performed on arrays would be extremely inefficient if the arrays weren’t homogeneous.\n",
    "\n",
    "**Why use NumPy?**\n",
    "\n",
    "NumPy arrays are faster and more compact than Python lists. An array consumes less memory and is convenient to use. NumPy uses much less memory to store data and it provides a mechanism of specifying the data types. This allows the code to be optimized even further."
   ]
  },
  {
   "cell_type": "markdown",
   "id": "56bccc4c",
   "metadata": {},
   "source": [
    "## Section 3.1: Arrays & It's Types"
   ]
  },
  {
   "cell_type": "markdown",
   "id": "363ba426",
   "metadata": {},
   "source": [
    ">*An array is a central data structure of the NumPy library. An array is a grid of values and it contains information about the raw data, how to locate an element, and how to interpret an element.*\n",
    "1.  A vector is an array with a single dimension (there’s no difference between row and column vectors)\n",
    "2.  A matrix refers to an array with two dimensions\n",
    "3.  For 3-D or higher dimensional arrays, the term tensor is also commonly used"
   ]
  },
  {
   "cell_type": "markdown",
   "id": "318f5813",
   "metadata": {},
   "source": [
    "### 3.1.1: 1-D Arrays"
   ]
  },
  {
   "cell_type": "code",
   "execution_count": null,
   "id": "dfdac0f7",
   "metadata": {},
   "outputs": [
    {
     "data": {
      "text/plain": [
       "array([5, 5, 5])"
      ]
     },
     "metadata": {},
     "output_type": "display_data"
    }
   ],
   "source": [
    "import numpy as np\n",
    "\n",
    "a = np.array([5, 5, 5,])\n",
    "a"
   ]
  },
  {
   "cell_type": "code",
   "execution_count": null,
   "id": "55c3ef44",
   "metadata": {},
   "outputs": [
    {
     "data": {
      "text/plain": [
       "array([ 2,  4,  6,  8, 10])"
      ]
     },
     "metadata": {},
     "output_type": "display_data"
    }
   ],
   "source": [
    "a = np.array([2,4,6,8,10])\n",
    "a"
   ]
  },
  {
   "cell_type": "code",
   "execution_count": null,
   "id": "0de66b66",
   "metadata": {},
   "outputs": [
    {
     "data": {
      "text/plain": [
       "array([1, 2, 3, 4, 5, 6])"
      ]
     },
     "metadata": {},
     "output_type": "display_data"
    }
   ],
   "source": [
    "a = np.array([1,2,3,4,5,6])\n",
    "a"
   ]
  },
  {
   "cell_type": "code",
   "execution_count": null,
   "id": "522e653c",
   "metadata": {},
   "outputs": [
    {
     "data": {
      "text/plain": [
       "array([0., 0., 0.])"
      ]
     },
     "metadata": {},
     "output_type": "display_data"
    }
   ],
   "source": [
    "b = np.zeros(3)\n",
    "b"
   ]
  },
  {
   "cell_type": "code",
   "execution_count": null,
   "id": "fe42cfc7",
   "metadata": {},
   "outputs": [
    {
     "data": {
      "text/plain": [
       "array([1., 1., 1., 1.])"
      ]
     },
     "metadata": {},
     "output_type": "display_data"
    }
   ],
   "source": [
    "c = np.ones(4)\n",
    "c"
   ]
  },
  {
   "cell_type": "markdown",
   "id": "e8a07511",
   "metadata": {},
   "source": [
    ">Create an empty array with 3 elements"
   ]
  },
  {
   "cell_type": "code",
   "execution_count": null,
   "id": "3334df1e",
   "metadata": {},
   "outputs": [
    {
     "data": {
      "text/plain": [
       "array([0., 0., 0.])"
      ]
     },
     "metadata": {},
     "output_type": "display_data"
    }
   ],
   "source": [
    "d = np.empty(3)\n",
    "d"
   ]
  },
  {
   "cell_type": "markdown",
   "id": "41ff9884",
   "metadata": {},
   "source": [
    ">Creating array with range of elements"
   ]
  },
  {
   "cell_type": "code",
   "execution_count": null,
   "id": "50199b39",
   "metadata": {},
   "outputs": [
    {
     "data": {
      "text/plain": [
       "array([0, 1, 2, 3, 4, 5, 6, 7, 8])"
      ]
     },
     "metadata": {},
     "output_type": "display_data"
    }
   ],
   "source": [
    "e = np.arange(9)\n",
    "e"
   ]
  },
  {
   "cell_type": "markdown",
   "id": "dcff9552",
   "metadata": {},
   "source": [
    "> Creating array between specific range of elements"
   ]
  },
  {
   "cell_type": "code",
   "execution_count": null,
   "id": "7b3a8999",
   "metadata": {},
   "outputs": [
    {
     "data": {
      "text/plain": [
       "array([ 1,  2,  3,  4,  5,  6,  7,  8,  9, 10, 11, 12, 13, 14])"
      ]
     },
     "metadata": {},
     "output_type": "display_data"
    }
   ],
   "source": [
    "f = np.arange(1, 15)\n",
    "f"
   ]
  },
  {
   "cell_type": "markdown",
   "id": "0604f3f7",
   "metadata": {},
   "source": [
    "> Creating array between specific range of elements and specified interval (5)\n"
   ]
  },
  {
   "cell_type": "code",
   "execution_count": null,
   "id": "9895eb8e",
   "metadata": {},
   "outputs": [
    {
     "data": {
      "text/plain": [
       "array([50, 55, 60, 65, 70, 75, 80, 85, 90, 95])"
      ]
     },
     "metadata": {},
     "output_type": "display_data"
    }
   ],
   "source": [
    "g = np.arange(50, 100, 5)\n",
    "g"
   ]
  },
  {
   "cell_type": "markdown",
   "id": "f3968e12",
   "metadata": {},
   "source": [
    "> Linearly spaced arrays"
   ]
  },
  {
   "cell_type": "code",
   "execution_count": null,
   "id": "6077433a",
   "metadata": {},
   "outputs": [
    {
     "data": {
      "text/plain": [
       "array([100., 105., 110., 115., 120.])"
      ]
     },
     "metadata": {},
     "output_type": "display_data"
    }
   ],
   "source": [
    "h = np.linspace(100 , 120, num= 5)\n",
    "h"
   ]
  },
  {
   "cell_type": "markdown",
   "id": "a05fed06",
   "metadata": {},
   "source": [
    "> specific data types in array"
   ]
  },
  {
   "cell_type": "code",
   "execution_count": null,
   "id": "ae477c82",
   "metadata": {},
   "outputs": [
    {
     "data": {
      "text/plain": [
       "array([1, 1, 1, 1, 1], dtype=int8)"
      ]
     },
     "metadata": {},
     "output_type": "display_data"
    }
   ],
   "source": [
    "i = np.ones(5, dtype = np.int8)\n",
    "i"
   ]
  },
  {
   "cell_type": "code",
   "execution_count": null,
   "id": "3cf3b978",
   "metadata": {},
   "outputs": [
    {
     "data": {
      "text/plain": [
       "array([1., 1., 1., 1.])"
      ]
     },
     "metadata": {},
     "output_type": "display_data"
    }
   ],
   "source": [
    "j = np.ones(4, dtype = np.float64)\n",
    "j"
   ]
  },
  {
   "cell_type": "markdown",
   "id": "a5629a81",
   "metadata": {},
   "source": [
    "### 3.1.2: 2-D Arrays"
   ]
  },
  {
   "cell_type": "code",
   "execution_count": null,
   "id": "bc03ef8b",
   "metadata": {},
   "outputs": [
    {
     "data": {
      "text/plain": [
       "array([[1, 2, 3],\n",
       "       [4, 5, 6],\n",
       "       [7, 8, 9]])"
      ]
     },
     "metadata": {},
     "output_type": "display_data"
    }
   ],
   "source": [
    "b = np.array([[1,2,3], [4,5,6], [7,8,9]])\n",
    "b"
   ]
  },
  {
   "cell_type": "code",
   "execution_count": null,
   "id": "a1a63fcc",
   "metadata": {},
   "outputs": [
    {
     "data": {
      "text/plain": [
       "array([[0., 0., 0., 0.],\n",
       "       [0., 0., 0., 0.],\n",
       "       [0., 0., 0., 0.],\n",
       "       [0., 0., 0., 0.],\n",
       "       [0., 0., 0., 0.]])"
      ]
     },
     "metadata": {},
     "output_type": "display_data"
    }
   ],
   "source": [
    "a = np.zeros((5,4))\n",
    "a"
   ]
  },
  {
   "cell_type": "code",
   "execution_count": null,
   "id": "409d4aba",
   "metadata": {},
   "outputs": [
    {
     "data": {
      "text/plain": [
       "array([[1., 1., 1.],\n",
       "       [1., 1., 1.]])"
      ]
     },
     "metadata": {},
     "output_type": "display_data"
    }
   ],
   "source": [
    "b = np.ones((2,3))\n",
    "b"
   ]
  },
  {
   "cell_type": "code",
   "execution_count": null,
   "id": "728c18fb",
   "metadata": {},
   "outputs": [
    {
     "data": {
      "text/plain": [
       "array([[0.00000000e+000, 0.00000000e+000, 0.00000000e+000],\n",
       "       [0.00000000e+000, 0.00000000e+000, 1.29049947e-320],\n",
       "       [8.34441742e-308, 9.79107192e-307, 3.33509775e-317]])"
      ]
     },
     "metadata": {},
     "output_type": "display_data"
    }
   ],
   "source": [
    "c = np.empty((3,3))\n",
    "c"
   ]
  },
  {
   "cell_type": "markdown",
   "id": "53510c93",
   "metadata": {},
   "source": [
    "### 3.1.3: 3-D Arrays"
   ]
  },
  {
   "cell_type": "code",
   "execution_count": null,
   "id": "4f448214",
   "metadata": {},
   "outputs": [
    {
     "data": {
      "text/plain": [
       "array([[[1, 2, 3, 4],\n",
       "        [2, 3, 4, 5],\n",
       "        [9, 8, 7, 6]],\n",
       "\n",
       "       [[7, 8, 9, 4],\n",
       "        [1, 4, 7, 8],\n",
       "        [1, 5, 9, 7]],\n",
       "\n",
       "       [[4, 5, 6, 8],\n",
       "        [3, 2, 1, 4],\n",
       "        [2, 5, 4, 8]]])"
      ]
     },
     "metadata": {},
     "output_type": "display_data"
    }
   ],
   "source": [
    "x = np.array([[[1,2,3,4], [2,3,4,5], [9,8,7,6]], [[7,8,9,4], [1,4,7,8], [1,5,9,7]], [[4,5,6,8], [3,2,1,4], [2,5,4,8]]])\n",
    "x"
   ]
  },
  {
   "cell_type": "markdown",
   "id": "a2717e77",
   "metadata": {},
   "source": [
    ">making and reshaping a 3D array"
   ]
  },
  {
   "cell_type": "code",
   "execution_count": null,
   "id": "1ae8e7e1",
   "metadata": {},
   "outputs": [
    {
     "data": {
      "text/plain": [
       "array([[[ 0,  1,  2,  3,  4],\n",
       "        [ 5,  6,  7,  8,  9],\n",
       "        [10, 11, 12, 13, 14],\n",
       "        [15, 16, 17, 18, 19]],\n",
       "\n",
       "       [[20, 21, 22, 23, 24],\n",
       "        [25, 26, 27, 28, 29],\n",
       "        [30, 31, 32, 33, 34],\n",
       "        [35, 36, 37, 38, 39]],\n",
       "\n",
       "       [[40, 41, 42, 43, 44],\n",
       "        [45, 46, 47, 48, 49],\n",
       "        [50, 51, 52, 53, 54],\n",
       "        [55, 56, 57, 58, 59]]])"
      ]
     },
     "metadata": {},
     "output_type": "display_data"
    }
   ],
   "source": [
    "a = np.arange(60).reshape(3,4,5)\n",
    "a"
   ]
  },
  {
   "cell_type": "markdown",
   "id": "3b1e2bb8",
   "metadata": {},
   "source": [
    "## Section 3.2: Array Functions"
   ]
  },
  {
   "cell_type": "code",
   "execution_count": null,
   "id": "c280e3d9",
   "metadata": {},
   "outputs": [
    {
     "data": {
      "text/plain": [
       "array([ 10. ,  12. ,  15. ,   2. ,   4. ,   6. , 100. , 320. ,   0.5,\n",
       "        10.3])"
      ]
     },
     "metadata": {},
     "output_type": "display_data"
    }
   ],
   "source": [
    "a = np.array([10,12,15,2,4,6,100,320,0.5,10.3])\n",
    "a"
   ]
  },
  {
   "cell_type": "markdown",
   "id": "e831694e",
   "metadata": {},
   "source": [
    "### 3.2.1 Sorting of one 1-D Array"
   ]
  },
  {
   "cell_type": "code",
   "execution_count": null,
   "id": "f9c7588a",
   "metadata": {},
   "outputs": [
    {
     "data": {
      "text/plain": [
       "array([  0.5,   2. ,   4. ,   6. ,  10. ,  10.3,  12. ,  15. , 100. ,\n",
       "       320. ])"
      ]
     },
     "metadata": {},
     "output_type": "display_data"
    }
   ],
   "source": [
    "a.sort()\n",
    "a"
   ]
  },
  {
   "cell_type": "markdown",
   "id": "fa08791c",
   "metadata": {},
   "source": [
    "### 3.2.2 Type of Array"
   ]
  },
  {
   "cell_type": "code",
   "execution_count": null,
   "id": "15df162f",
   "metadata": {},
   "outputs": [
    {
     "data": {
      "text/plain": [
       "numpy.ndarray"
      ]
     },
     "metadata": {},
     "output_type": "display_data"
    }
   ],
   "source": [
    "type(a)"
   ]
  },
  {
   "cell_type": "markdown",
   "id": "c6978ff7",
   "metadata": {},
   "source": [
    "### 3.2.3 Length of an array"
   ]
  },
  {
   "cell_type": "code",
   "execution_count": null,
   "id": "0aae0d18",
   "metadata": {},
   "outputs": [
    {
     "data": {
      "text/plain": [
       "10"
      ]
     },
     "metadata": {},
     "output_type": "display_data"
    }
   ],
   "source": [
    "len(a)"
   ]
  },
  {
   "cell_type": "code",
   "execution_count": null,
   "id": "20c06e4c",
   "metadata": {},
   "outputs": [
    {
     "data": {
      "text/plain": [
       "array([10.2,  3.4,  5.3, 35.2, 45.2])"
      ]
     },
     "metadata": {},
     "output_type": "display_data"
    }
   ],
   "source": [
    "b = np.array([10.2, 3.4, 5.3, 35.2, 45.2])\n",
    "b"
   ]
  },
  {
   "cell_type": "markdown",
   "id": "1725df86",
   "metadata": {},
   "source": [
    "### 3.2.4 Concatenation of Array"
   ]
  },
  {
   "cell_type": "markdown",
   "id": "a5c3e79a",
   "metadata": {},
   "source": [
    "> Concatenation of 1-D Array"
   ]
  },
  {
   "cell_type": "code",
   "execution_count": null,
   "id": "5baa38e9",
   "metadata": {},
   "outputs": [
    {
     "data": {
      "text/plain": [
       "array([  0.5,   2. ,   4. ,   6. ,  10. ,  10.3,  12. ,  15. , 100. ,\n",
       "       320. ,  10.2,   3.4,   5.3,  35.2,  45.2])"
      ]
     },
     "metadata": {},
     "output_type": "display_data"
    }
   ],
   "source": [
    "c = np.concatenate((a,b))\n",
    "c"
   ]
  },
  {
   "cell_type": "code",
   "execution_count": null,
   "id": "5ef0d308",
   "metadata": {},
   "outputs": [
    {
     "data": {
      "text/plain": [
       "array([  0.5,   2. ,   3.4,   4. ,   5.3,   6. ,  10. ,  10.2,  10.3,\n",
       "        12. ,  15. ,  35.2,  45.2, 100. , 320. ])"
      ]
     },
     "metadata": {},
     "output_type": "display_data"
    }
   ],
   "source": [
    "c.sort()\n",
    "c"
   ]
  },
  {
   "cell_type": "markdown",
   "id": "a2e1907c",
   "metadata": {},
   "source": [
    "> Concatenation of 2-D Array"
   ]
  },
  {
   "cell_type": "code",
   "execution_count": null,
   "id": "aea64970",
   "metadata": {},
   "outputs": [
    {
     "data": {
      "text/plain": [
       "array([[1, 2, 3, 4, 5],\n",
       "       [5, 4, 3, 2, 1]])"
      ]
     },
     "metadata": {},
     "output_type": "display_data"
    }
   ],
   "source": [
    "a = np.array([[1,2,3,4,5], [5,4,3,2,1]])\n",
    "a"
   ]
  },
  {
   "cell_type": "code",
   "execution_count": null,
   "id": "23a1b5e5",
   "metadata": {},
   "outputs": [
    {
     "data": {
      "text/plain": [
       "array([[6, 7, 5, 6, 6],\n",
       "       [8, 9, 5, 9, 5]])"
      ]
     },
     "metadata": {},
     "output_type": "display_data"
    }
   ],
   "source": [
    "b = np.array([[6,7,5,6,6], [8,9,5,9,5]])\n",
    "b"
   ]
  },
  {
   "cell_type": "code",
   "execution_count": null,
   "id": "43d316e6",
   "metadata": {},
   "outputs": [
    {
     "data": {
      "text/plain": [
       "array([[1, 2, 3, 4, 5],\n",
       "       [5, 4, 3, 2, 1],\n",
       "       [6, 7, 5, 6, 6],\n",
       "       [8, 9, 5, 9, 5]])"
      ]
     },
     "metadata": {},
     "output_type": "display_data"
    }
   ],
   "source": [
    "c = np.concatenate((a,b))\n",
    "c"
   ]
  },
  {
   "cell_type": "code",
   "execution_count": null,
   "id": "4dda2adc",
   "metadata": {},
   "outputs": [
    {
     "data": {
      "text/plain": [
       "array([[1, 2, 3, 4, 5, 6, 7, 5, 6, 6],\n",
       "       [5, 4, 3, 2, 1, 8, 9, 5, 9, 5]])"
      ]
     },
     "metadata": {},
     "output_type": "display_data"
    }
   ],
   "source": [
    "c = np.concatenate((a,b), axis=1)\n",
    "c"
   ]
  },
  {
   "cell_type": "code",
   "execution_count": null,
   "id": "1121832d",
   "metadata": {},
   "outputs": [
    {
     "data": {
      "text/plain": [
       "array([[1, 2],\n",
       "       [3, 4],\n",
       "       [5, 6]])"
      ]
     },
     "metadata": {},
     "output_type": "display_data"
    }
   ],
   "source": [
    "x = np.array([[1, 2], [3, 4]])\n",
    "y = np.array([[5, 6]])\n",
    "np.concatenate((x, y), axis=0)"
   ]
  },
  {
   "cell_type": "markdown",
   "id": "a568f1d9",
   "metadata": {},
   "source": [
    "### 3.2.5 Dimension of an array"
   ]
  },
  {
   "cell_type": "code",
   "execution_count": null,
   "id": "0cc43877",
   "metadata": {},
   "outputs": [
    {
     "data": {
      "text/plain": [
       "1"
      ]
     },
     "metadata": {},
     "output_type": "display_data"
    }
   ],
   "source": [
    "a = np.array([10,12,15,2,4,6,100,320,0.5,10.3])\n",
    "a.ndim"
   ]
  },
  {
   "cell_type": "code",
   "execution_count": null,
   "id": "415d6248",
   "metadata": {},
   "outputs": [
    {
     "data": {
      "text/plain": [
       "2"
      ]
     },
     "metadata": {},
     "output_type": "display_data"
    }
   ],
   "source": [
    "b = np.array([[6,7,5,6,6], [8,9,5,9,5]])\n",
    "b.ndim"
   ]
  },
  {
   "cell_type": "code",
   "execution_count": null,
   "id": "e6841909",
   "metadata": {},
   "outputs": [
    {
     "data": {
      "text/plain": [
       "3"
      ]
     },
     "metadata": {},
     "output_type": "display_data"
    }
   ],
   "source": [
    "a = np.array([[[1,2,3,4], [4,5,6,7]], [[3,2,1,4],[6,5,4,1]], [[7,8,9,0],[9,8,7,6]]])\n",
    "a.ndim"
   ]
  },
  {
   "cell_type": "markdown",
   "id": "23784d4e",
   "metadata": {},
   "source": [
    "### 3.2.6 Number of elements in an array"
   ]
  },
  {
   "cell_type": "code",
   "execution_count": null,
   "id": "7ed0ded3",
   "metadata": {},
   "outputs": [
    {
     "data": {
      "text/plain": [
       "10"
      ]
     },
     "metadata": {},
     "output_type": "display_data"
    }
   ],
   "source": [
    "a = np.array([10,12,15,2,4,6,100,320,0.5,10.3])\n",
    "a.size"
   ]
  },
  {
   "cell_type": "code",
   "execution_count": null,
   "id": "ffbe8224",
   "metadata": {},
   "outputs": [
    {
     "data": {
      "text/plain": [
       "12"
      ]
     },
     "metadata": {},
     "output_type": "display_data"
    }
   ],
   "source": [
    "b = np.array([[6,7,5,6,6,6], [8,9,5,9,5,7]])\n",
    "b.size"
   ]
  },
  {
   "cell_type": "code",
   "execution_count": null,
   "id": "4a9a4845",
   "metadata": {},
   "outputs": [
    {
     "data": {
      "text/plain": [
       "24"
      ]
     },
     "metadata": {},
     "output_type": "display_data"
    }
   ],
   "source": [
    "a = np.array([[[1,2,3,4], [4,5,6,7]], [[3,2,1,4],[6,5,4,1]], [[7,8,9,0],[9,8,7,6]]])\n",
    "a.size"
   ]
  },
  {
   "cell_type": "markdown",
   "id": "63591035",
   "metadata": {},
   "source": [
    "### 3.2.7 Shape of an array"
   ]
  },
  {
   "cell_type": "code",
   "execution_count": null,
   "id": "8906a559",
   "metadata": {},
   "outputs": [
    {
     "data": {
      "text/plain": [
       "array([ 10. ,  12. ,  15. ,   2. ,   4. ,   6. , 100. , 320. ,   0.5,\n",
       "        10.3])"
      ]
     },
     "metadata": {},
     "output_type": "display_data"
    }
   ],
   "source": [
    "a = np.array([10,12,15,2,4,6,100,320,0.5,10.3])\n",
    "a"
   ]
  },
  {
   "cell_type": "code",
   "execution_count": null,
   "id": "d55cf6f1",
   "metadata": {},
   "outputs": [
    {
     "data": {
      "text/plain": [
       "(10,)"
      ]
     },
     "metadata": {},
     "output_type": "display_data"
    }
   ],
   "source": [
    "a = np.array([10,12,15,2,4,6,100,320,0.5,10.3])\n",
    "a.shape\n",
    "# Output: 10 Rows or Columns"
   ]
  },
  {
   "cell_type": "code",
   "execution_count": null,
   "id": "56796e4b",
   "metadata": {},
   "outputs": [
    {
     "data": {
      "text/plain": [
       "array([[6, 7, 5, 6, 6, 6],\n",
       "       [8, 9, 5, 9, 5, 7],\n",
       "       [8, 9, 5, 9, 5, 7]])"
      ]
     },
     "metadata": {},
     "output_type": "display_data"
    }
   ],
   "source": [
    "b = np.array([[6,7,5,6,6,6], [8,9,5,9,5,7], [8,9,5,9,5,7]])\n",
    "b\n",
    "b"
   ]
  },
  {
   "cell_type": "code",
   "execution_count": null,
   "id": "ae697c33",
   "metadata": {},
   "outputs": [
    {
     "data": {
      "text/plain": [
       "(3, 6)"
      ]
     },
     "metadata": {},
     "output_type": "display_data"
    }
   ],
   "source": [
    "b = np.array([[6,7,5,6,6,6], [8,9,5,9,5,7], [8,9,5,9,5,7]])\n",
    "b\n",
    "b.shape\n",
    "# Output: 3 Rows, 6 Columns"
   ]
  },
  {
   "cell_type": "code",
   "execution_count": null,
   "id": "7a0d8ac4",
   "metadata": {},
   "outputs": [
    {
     "data": {
      "text/plain": [
       "array([[[1, 2, 3, 4],\n",
       "        [4, 5, 6, 7]],\n",
       "\n",
       "       [[3, 2, 1, 4],\n",
       "        [6, 5, 4, 1]],\n",
       "\n",
       "       [[7, 8, 9, 0],\n",
       "        [9, 8, 7, 6]],\n",
       "\n",
       "       [[3, 2, 1, 4],\n",
       "        [6, 5, 4, 1]]])"
      ]
     },
     "metadata": {},
     "output_type": "display_data"
    }
   ],
   "source": [
    "a = np.array([[[1,2,3,4], [4,5,6,7]], [[3,2,1,4],[6,5,4,1]], [[7,8,9,0],[9,8,7,6]], [[3,2,1,4],[6,5,4,1]]])\n",
    "a"
   ]
  },
  {
   "cell_type": "code",
   "execution_count": null,
   "id": "cae2a0b3",
   "metadata": {},
   "outputs": [
    {
     "data": {
      "text/plain": [
       "(4, 2, 4)"
      ]
     },
     "metadata": {},
     "output_type": "display_data"
    }
   ],
   "source": [
    "a = np.array([[[1,2,3,4], [4,5,6,7]], [[3,2,1,4],[6,5,4,1]], [[7,8,9,0],[9,8,7,6]], [[3,2,1,4],[6,5,4,1]]])\n",
    "a.shape\n",
    "# Output: 4 Layers, 2 Rows, 4 Columns"
   ]
  },
  {
   "cell_type": "markdown",
   "id": "ff54e4f2",
   "metadata": {},
   "source": [
    "### 3.2.8 Reshaping an array"
   ]
  },
  {
   "cell_type": "code",
   "execution_count": null,
   "id": "72ec3bef",
   "metadata": {},
   "outputs": [
    {
     "data": {
      "text/plain": [
       "array([0, 1, 2, 3, 4, 5, 6, 7, 8])"
      ]
     },
     "metadata": {},
     "output_type": "display_data"
    }
   ],
   "source": [
    "a = np.arange(9) # 3*3 = 9\n",
    "a"
   ]
  },
  {
   "cell_type": "code",
   "execution_count": null,
   "id": "1f25827c",
   "metadata": {},
   "outputs": [
    {
     "data": {
      "text/plain": [
       "array([[0, 1, 2],\n",
       "       [3, 4, 5],\n",
       "       [6, 7, 8]])"
      ]
     },
     "metadata": {},
     "output_type": "display_data"
    }
   ],
   "source": [
    "a.reshape(3,3) \n",
    "# Can ony reshape it into multiple of 9 e.g. 3*3 = 9"
   ]
  },
  {
   "cell_type": "code",
   "execution_count": null,
   "id": "8aa7bf57",
   "metadata": {},
   "outputs": [
    {
     "data": {
      "text/plain": [
       "array([[0, 1, 2, 3, 4, 5, 6, 7, 8]])"
      ]
     },
     "metadata": {},
     "output_type": "display_data"
    }
   ],
   "source": [
    "np.reshape(a, newshape=(1,9), order = \"C\")"
   ]
  },
  {
   "cell_type": "markdown",
   "id": "fb959bd6",
   "metadata": {},
   "source": [
    "### 3.2.9 Conversion of an Array"
   ]
  },
  {
   "cell_type": "markdown",
   "id": "bf3f2229",
   "metadata": {},
   "source": [
    "> Conversion of 1-D array to 2-D array"
   ]
  },
  {
   "cell_type": "code",
   "execution_count": null,
   "id": "45a12f7e",
   "metadata": {},
   "outputs": [
    {
     "data": {
      "text/plain": [
       "array([1, 2, 3, 4, 5, 6, 7, 8, 9])"
      ]
     },
     "metadata": {},
     "output_type": "display_data"
    }
   ],
   "source": [
    "a = np.array([1,2,3,4,5,6,7,8,9])\n",
    "a"
   ]
  },
  {
   "cell_type": "markdown",
   "id": "87147d08",
   "metadata": {},
   "source": [
    "> Row wise 1D to 2D conversion "
   ]
  },
  {
   "cell_type": "code",
   "execution_count": null,
   "id": "7320fe05",
   "metadata": {},
   "outputs": [
    {
     "data": {
      "text/plain": [
       "array([[1, 2, 3, 4, 5, 6, 7, 8, 9]])"
      ]
     },
     "metadata": {},
     "output_type": "display_data"
    }
   ],
   "source": [
    "b = a[np.newaxis, :]\n",
    "b"
   ]
  },
  {
   "cell_type": "code",
   "execution_count": null,
   "id": "143fc70b",
   "metadata": {},
   "outputs": [
    {
     "data": {
      "text/plain": [
       "(1, 9)"
      ]
     },
     "metadata": {},
     "output_type": "display_data"
    }
   ],
   "source": [
    "b.shape"
   ]
  },
  {
   "cell_type": "markdown",
   "id": "09bc4ffc",
   "metadata": {},
   "source": [
    "> Column wise 1D to 2D conversion"
   ]
  },
  {
   "cell_type": "code",
   "execution_count": null,
   "id": "55f963b3",
   "metadata": {},
   "outputs": [
    {
     "data": {
      "text/plain": [
       "array([[1],\n",
       "       [2],\n",
       "       [3],\n",
       "       [4],\n",
       "       [5],\n",
       "       [6],\n",
       "       [7],\n",
       "       [8],\n",
       "       [9]])"
      ]
     },
     "metadata": {},
     "output_type": "display_data"
    }
   ],
   "source": [
    "c = a[: , np.newaxis]\n",
    "c"
   ]
  },
  {
   "cell_type": "code",
   "execution_count": null,
   "id": "7e571800",
   "metadata": {},
   "outputs": [
    {
     "data": {
      "text/plain": [
       "(9, 1)"
      ]
     },
     "metadata": {},
     "output_type": "display_data"
    }
   ],
   "source": [
    "c.shape"
   ]
  },
  {
   "cell_type": "markdown",
   "id": "c9251a24",
   "metadata": {},
   "source": [
    "> Conversion of 1-D array to 2-D and then 2-D to 3-D\n",
    "> \n",
    "> _Using np.newaxis will increase the dimensions of your array by one dimension when used once._"
   ]
  },
  {
   "cell_type": "code",
   "execution_count": null,
   "id": "a170abeb",
   "metadata": {},
   "outputs": [
    {
     "data": {
      "text/plain": [
       "(7,)"
      ]
     },
     "metadata": {},
     "output_type": "display_data"
    }
   ],
   "source": [
    "a = np.arange(7)\n",
    "a.shape\n"
   ]
  },
  {
   "cell_type": "code",
   "execution_count": null,
   "id": "8e332d42",
   "metadata": {},
   "outputs": [
    {
     "data": {
      "text/plain": [
       "(1, 7)"
      ]
     },
     "metadata": {},
     "output_type": "display_data"
    }
   ],
   "source": [
    "b = a[np.newaxis, :]\n",
    "b.shape"
   ]
  },
  {
   "cell_type": "code",
   "execution_count": null,
   "id": "21cf04d3",
   "metadata": {},
   "outputs": [
    {
     "data": {
      "text/plain": [
       "(1, 1, 7)"
      ]
     },
     "metadata": {},
     "output_type": "display_data"
    }
   ],
   "source": [
    "c = b[np.newaxis, :]\n",
    "c.shape"
   ]
  },
  {
   "cell_type": "markdown",
   "id": "a9a45ca3",
   "metadata": {},
   "source": [
    ">Converting 1-D array to 2-D array at specific axis\n",
    ">\n",
    ">_You can also expand an array by inserting a new axis at a specified position with np.expand_dims._"
   ]
  },
  {
   "cell_type": "code",
   "execution_count": null,
   "id": "3b7513fb",
   "metadata": {},
   "outputs": [
    {
     "data": {
      "text/plain": [
       "(6,)"
      ]
     },
     "metadata": {},
     "output_type": "display_data"
    }
   ],
   "source": [
    "a = np.arange(6)\n",
    "a.shape"
   ]
  },
  {
   "cell_type": "markdown",
   "id": "4715e929",
   "metadata": {},
   "source": [
    "> You can use np.expand_dims to add an axis at index position 1"
   ]
  },
  {
   "cell_type": "code",
   "execution_count": null,
   "id": "0adc8dbc",
   "metadata": {},
   "outputs": [
    {
     "data": {
      "text/plain": [
       "array([[0],\n",
       "       [1],\n",
       "       [2],\n",
       "       [3],\n",
       "       [4],\n",
       "       [5]])"
      ]
     },
     "metadata": {},
     "output_type": "display_data"
    }
   ],
   "source": [
    "b = np.expand_dims(a, axis=1)\n",
    "b"
   ]
  },
  {
   "cell_type": "code",
   "execution_count": null,
   "id": "d8cac73c",
   "metadata": {},
   "outputs": [
    {
     "data": {
      "text/plain": [
       "(6, 1)"
      ]
     },
     "metadata": {},
     "output_type": "display_data"
    }
   ],
   "source": [
    "b.shape"
   ]
  },
  {
   "cell_type": "markdown",
   "id": "5c7d0846",
   "metadata": {},
   "source": [
    ">You can add an axis at index position 0\n"
   ]
  },
  {
   "cell_type": "code",
   "execution_count": null,
   "id": "ed723cda",
   "metadata": {},
   "outputs": [
    {
     "data": {
      "text/plain": [
       "array([[0, 1, 2, 3, 4, 5]])"
      ]
     },
     "metadata": {},
     "output_type": "display_data"
    }
   ],
   "source": [
    "b = np.expand_dims(a, axis=0)\n",
    "b"
   ]
  },
  {
   "cell_type": "code",
   "execution_count": null,
   "id": "b8e6c53e",
   "metadata": {},
   "outputs": [
    {
     "data": {
      "text/plain": [
       "(1, 6)"
      ]
     },
     "metadata": {},
     "output_type": "display_data"
    }
   ],
   "source": [
    "b.shape"
   ]
  },
  {
   "cell_type": "markdown",
   "id": "d2728c58",
   "metadata": {},
   "source": [
    "### 3.2.10 Basic Arithmetic Operations on an Array"
   ]
  },
  {
   "cell_type": "markdown",
   "id": "295d0494",
   "metadata": {},
   "source": [
    "> Addition & Multiplication to elements of array"
   ]
  },
  {
   "cell_type": "code",
   "execution_count": null,
   "id": "7a05ae57",
   "metadata": {},
   "outputs": [
    {
     "data": {
      "text/plain": [
       "array([1, 2, 3, 4, 5, 6, 7, 8, 9])"
      ]
     },
     "metadata": {},
     "output_type": "display_data"
    }
   ],
   "source": [
    "a"
   ]
  },
  {
   "cell_type": "code",
   "execution_count": null,
   "id": "27ef4420",
   "metadata": {},
   "outputs": [
    {
     "data": {
      "text/plain": [
       "array([ 6, 12, 18, 24, 30, 36, 42, 48, 54])"
      ]
     },
     "metadata": {},
     "output_type": "display_data"
    }
   ],
   "source": [
    "a*6"
   ]
  },
  {
   "cell_type": "code",
   "execution_count": null,
   "id": "f80e6e8d",
   "metadata": {},
   "outputs": [
    {
     "data": {
      "text/plain": [
       "array([ 7,  8,  9, 10, 11, 12, 13, 14, 15])"
      ]
     },
     "metadata": {},
     "output_type": "display_data"
    }
   ],
   "source": [
    "a+6"
   ]
  },
  {
   "cell_type": "code",
   "execution_count": null,
   "id": "668651ae",
   "metadata": {},
   "outputs": [
    {
     "data": {
      "text/plain": [
       "45"
      ]
     },
     "metadata": {},
     "output_type": "display_data"
    }
   ],
   "source": [
    "# Sum of elements\n",
    "a.sum()"
   ]
  },
  {
   "cell_type": "code",
   "execution_count": null,
   "id": "11aa6587",
   "metadata": {},
   "outputs": [
    {
     "data": {
      "text/plain": [
       "5.0"
      ]
     },
     "metadata": {},
     "output_type": "display_data"
    }
   ],
   "source": [
    "# mean of elements\n",
    "a.mean()"
   ]
  },
  {
   "cell_type": "markdown",
   "id": "0fe9079e",
   "metadata": {},
   "source": [
    "### 3.2.11 Indexing and Slicing"
   ]
  },
  {
   "cell_type": "code",
   "execution_count": null,
   "id": "9d094233",
   "metadata": {},
   "outputs": [
    {
     "data": {
      "text/plain": [
       "array([10, 11, 12, 13, 14, 15])"
      ]
     },
     "metadata": {},
     "output_type": "display_data"
    }
   ],
   "source": [
    "a = np.array([10, 11, 12, 13, 14, 15])\n",
    "a"
   ]
  },
  {
   "cell_type": "code",
   "execution_count": null,
   "id": "2f7d5cd4",
   "metadata": {},
   "outputs": [
    {
     "data": {
      "text/plain": [
       "12"
      ]
     },
     "metadata": {},
     "output_type": "display_data"
    }
   ],
   "source": [
    "a[2]"
   ]
  },
  {
   "cell_type": "code",
   "execution_count": null,
   "id": "ae5e8043",
   "metadata": {},
   "outputs": [
    {
     "data": {
      "text/plain": [
       "array([10, 11, 12])"
      ]
     },
     "metadata": {},
     "output_type": "display_data"
    }
   ],
   "source": [
    "a[0:3]"
   ]
  },
  {
   "cell_type": "code",
   "execution_count": null,
   "id": "19b0b8b6",
   "metadata": {},
   "outputs": [
    {
     "data": {
      "text/plain": [
       "array([10, 11, 12, 13, 14, 15])"
      ]
     },
     "metadata": {},
     "output_type": "display_data"
    }
   ],
   "source": [
    "a[0:]"
   ]
  },
  {
   "cell_type": "code",
   "execution_count": null,
   "id": "e64cb9aa",
   "metadata": {},
   "outputs": [
    {
     "data": {
      "text/plain": [
       "array([10, 11, 12, 13, 14])"
      ]
     },
     "metadata": {},
     "output_type": "display_data"
    }
   ],
   "source": [
    "a[:5]"
   ]
  },
  {
   "cell_type": "code",
   "execution_count": null,
   "id": "311f0408",
   "metadata": {},
   "outputs": [
    {
     "data": {
      "text/plain": [
       "array([11, 12, 13, 14, 15])"
      ]
     },
     "metadata": {},
     "output_type": "display_data"
    }
   ],
   "source": [
    "a[-5:]"
   ]
  },
  {
   "cell_type": "code",
   "execution_count": null,
   "id": "be73c3dc",
   "metadata": {},
   "outputs": [
    {
     "data": {
      "text/plain": [
       "array([[ 1,  2,  3,  4],\n",
       "       [ 5,  6,  7,  8],\n",
       "       [ 9, 10, 11, 12]])"
      ]
     },
     "metadata": {},
     "output_type": "display_data"
    }
   ],
   "source": [
    "a = np.array([[1 , 2, 3, 4], [5, 6, 7, 8], [9, 10, 11, 12]])\n",
    "a"
   ]
  },
  {
   "cell_type": "code",
   "execution_count": null,
   "id": "dbf6c60d",
   "metadata": {},
   "outputs": [
    {
     "data": {
      "text/plain": [
       "array([1, 2, 3, 4])"
      ]
     },
     "metadata": {},
     "output_type": "display_data"
    }
   ],
   "source": [
    "a[a<5]"
   ]
  },
  {
   "cell_type": "code",
   "execution_count": null,
   "id": "0040894e",
   "metadata": {},
   "outputs": [
    {
     "data": {
      "text/plain": [
       "array([ 6,  7,  8,  9, 10, 11, 12])"
      ]
     },
     "metadata": {},
     "output_type": "display_data"
    }
   ],
   "source": [
    "b = a > 5\n",
    "a[b]"
   ]
  },
  {
   "cell_type": "code",
   "execution_count": null,
   "id": "6d404e9b",
   "metadata": {},
   "outputs": [
    {
     "data": {
      "text/plain": [
       "array([3, 4, 5, 6, 7, 8, 9])"
      ]
     },
     "metadata": {},
     "output_type": "display_data"
    }
   ],
   "source": [
    "c = a[(a>2) & (a<10)]\n",
    "c"
   ]
  },
  {
   "cell_type": "code",
   "execution_count": null,
   "id": "868f55a7",
   "metadata": {},
   "outputs": [
    {
     "data": {
      "text/plain": [
       "array([[ True, False, False, False],\n",
       "       [ True,  True,  True,  True],\n",
       "       [ True,  True,  True,  True]])"
      ]
     },
     "metadata": {},
     "output_type": "display_data"
    }
   ],
   "source": [
    "c = (a>4) | (a==1)\n",
    "c"
   ]
  },
  {
   "cell_type": "code",
   "execution_count": null,
   "id": "386af875",
   "metadata": {},
   "outputs": [
    {
     "data": {
      "text/plain": [
       "(array([0, 0, 0, 0], dtype=int64), array([0, 1, 2, 3], dtype=int64))"
      ]
     },
     "metadata": {},
     "output_type": "display_data"
    }
   ],
   "source": [
    "b = np.nonzero(a <5)\n",
    "b"
   ]
  },
  {
   "cell_type": "markdown",
   "id": "ce3807cd",
   "metadata": {},
   "source": [
    "> Slicing"
   ]
  },
  {
   "cell_type": "code",
   "execution_count": null,
   "id": "6858d9e5",
   "metadata": {},
   "outputs": [
    {
     "data": {
      "text/plain": [
       "array([[ 1,  2,  3,  4],\n",
       "       [ 5,  6,  7,  8],\n",
       "       [ 9, 10, 11, 12]])"
      ]
     },
     "metadata": {},
     "output_type": "display_data"
    }
   ],
   "source": [
    "a = np.array([[1, 2, 3, 4], [5, 6, 7, 8], [9, 10, 11, 12]])\n",
    "a"
   ]
  },
  {
   "cell_type": "markdown",
   "id": "2404a44e",
   "metadata": {},
   "source": [
    "> Slicing a row of an array\n",
    "> \n",
    "> \"1\" is the index of the row of an array"
   ]
  },
  {
   "cell_type": "code",
   "execution_count": null,
   "id": "be84d9bc",
   "metadata": {},
   "outputs": [
    {
     "data": {
      "text/plain": [
       "array([5, 6, 7, 8])"
      ]
     },
     "metadata": {},
     "output_type": "display_data"
    }
   ],
   "source": [
    "b = a[1, :]   # \"1\" is the index of the row of an array\n",
    "b"
   ]
  },
  {
   "cell_type": "markdown",
   "id": "f87af930",
   "metadata": {},
   "source": [
    "> Slicing a Column of an array\n",
    "> \n",
    "> \"1\" is the index of the Column of an array"
   ]
  },
  {
   "cell_type": "code",
   "execution_count": null,
   "id": "49f03cd2",
   "metadata": {},
   "outputs": [
    {
     "data": {
      "text/plain": [
       "array([ 2,  6, 10])"
      ]
     },
     "metadata": {},
     "output_type": "display_data"
    }
   ],
   "source": [
    "# to slice a column of an array\n",
    "b = a[:, 1] # \"1\" is the index of the column of an array\n",
    "b"
   ]
  },
  {
   "cell_type": "markdown",
   "id": "84c47e86",
   "metadata": {},
   "source": [
    "> slicing and modifying element"
   ]
  },
  {
   "cell_type": "code",
   "execution_count": null,
   "id": "0e9da100",
   "metadata": {},
   "outputs": [
    {
     "data": {
      "text/plain": [
       "array([200,   6,  10])"
      ]
     },
     "metadata": {},
     "output_type": "display_data"
    }
   ],
   "source": [
    "b[0] = 200\n",
    "b"
   ]
  },
  {
   "cell_type": "code",
   "execution_count": null,
   "id": "d9b2b8c5",
   "metadata": {},
   "outputs": [
    {
     "data": {
      "text/plain": [
       "array([[  1, 200,   3,   4],\n",
       "       [  5,   6,   7,   8],\n",
       "       [  9,  10,  11,  12]])"
      ]
     },
     "metadata": {},
     "output_type": "display_data"
    }
   ],
   "source": [
    "a"
   ]
  },
  {
   "cell_type": "markdown",
   "id": "7db8191c",
   "metadata": {},
   "source": [
    ">Making a copy of an array\n"
   ]
  },
  {
   "cell_type": "code",
   "execution_count": null,
   "id": "7aa5f16e",
   "metadata": {},
   "outputs": [
    {
     "data": {
      "text/plain": [
       "array([[  1, 200,   3,   4],\n",
       "       [  5,   6,   7,   8],\n",
       "       [  9,  10,  11,  12]])"
      ]
     },
     "metadata": {},
     "output_type": "display_data"
    }
   ],
   "source": [
    "c = a.copy()\n",
    "c"
   ]
  },
  {
   "cell_type": "markdown",
   "id": "585a68a9",
   "metadata": {},
   "source": [
    "### 3.2.12: Array Stacking & Splitting"
   ]
  },
  {
   "cell_type": "markdown",
   "id": "49d509a5",
   "metadata": {},
   "source": [
    ">You can stack them vertically with vstack"
   ]
  },
  {
   "cell_type": "code",
   "execution_count": null,
   "id": "3d72bf0c",
   "metadata": {},
   "outputs": [
    {
     "data": {
      "text/plain": [
       "array([[1, 1],\n",
       "       [2, 2],\n",
       "       [3, 3],\n",
       "       [4, 4]])"
      ]
     },
     "metadata": {},
     "output_type": "display_data"
    }
   ],
   "source": [
    "a1 = np.array([[1, 1],\n",
    "               [2, 2]])\n",
    "a2 = np.array([[3, 3],\n",
    "               [4, 4]])\n",
    "\n",
    "np.vstack((a1, a2))  "
   ]
  },
  {
   "cell_type": "markdown",
   "id": "bcc102f7",
   "metadata": {},
   "source": [
    ">Or stack them horizontally with hstack\n"
   ]
  },
  {
   "cell_type": "code",
   "execution_count": null,
   "id": "87b4c071",
   "metadata": {},
   "outputs": [
    {
     "data": {
      "text/plain": [
       "array([[1, 1, 3, 3],\n",
       "       [2, 2, 4, 4]])"
      ]
     },
     "metadata": {},
     "output_type": "display_data"
    }
   ],
   "source": [
    "np.hstack((a1, a2))"
   ]
  },
  {
   "cell_type": "markdown",
   "id": "d399c1f6",
   "metadata": {},
   "source": [
    ">Array Splitting"
   ]
  },
  {
   "cell_type": "code",
   "execution_count": null,
   "id": "e91e09d8",
   "metadata": {},
   "outputs": [
    {
     "data": {
      "text/plain": [
       "array([[ 1,  2,  3,  4,  5,  6,  7,  8],\n",
       "       [ 9, 10, 11, 12, 13, 14, 15, 16],\n",
       "       [17, 18, 19, 20, 21, 22, 23, 24]])"
      ]
     },
     "metadata": {},
     "output_type": "display_data"
    }
   ],
   "source": [
    "x = np.arange(1, 25).reshape(3,8)\n",
    "x"
   ]
  },
  {
   "cell_type": "markdown",
   "id": "5a576ac8",
   "metadata": {},
   "source": [
    ">If you want to split this array into equally shaped arrays\n",
    ">\n",
    "> **Imp Note: Row or Column should be multiple of Row or Column, e.g. above array has 8 column it multiple could be 2, 4, 8)**"
   ]
  },
  {
   "cell_type": "code",
   "execution_count": null,
   "id": "1d1fa4ee",
   "metadata": {},
   "outputs": [
    {
     "data": {
      "text/plain": [
       "[array([[ 1,  2,  3,  4],\n",
       "        [ 9, 10, 11, 12],\n",
       "        [17, 18, 19, 20]]),\n",
       " array([[ 5,  6,  7,  8],\n",
       "        [13, 14, 15, 16],\n",
       "        [21, 22, 23, 24]])]"
      ]
     },
     "metadata": {},
     "output_type": "display_data"
    }
   ],
   "source": [
    "np.hsplit(x,2)"
   ]
  },
  {
   "cell_type": "code",
   "execution_count": null,
   "id": "61d976f7",
   "metadata": {},
   "outputs": [
    {
     "data": {
      "text/plain": [
       "[array([[ 1,  2,  3,  4,  5],\n",
       "        [ 9, 10, 11, 12, 13],\n",
       "        [17, 18, 19, 20, 21]]),\n",
       " array([[ 6],\n",
       "        [14],\n",
       "        [22]]),\n",
       " array([[ 7,  8],\n",
       "        [15, 16],\n",
       "        [23, 24]])]"
      ]
     },
     "metadata": {},
     "output_type": "display_data"
    }
   ],
   "source": [
    "np.hsplit(x, (5,6))"
   ]
  },
  {
   "cell_type": "markdown",
   "id": "e21ce303",
   "metadata": {},
   "source": [
    "## Section 3.3: Basic Array Operations"
   ]
  },
  {
   "cell_type": "markdown",
   "id": "fb57017a",
   "metadata": {},
   "source": [
    "> Addition"
   ]
  },
  {
   "cell_type": "code",
   "execution_count": null,
   "id": "2e90f028",
   "metadata": {},
   "outputs": [
    {
     "data": {
      "text/plain": [
       "array([2, 3])"
      ]
     },
     "metadata": {},
     "output_type": "display_data"
    }
   ],
   "source": [
    "import numpy as np\n",
    "a = np.array([2,3])\n",
    "a"
   ]
  },
  {
   "cell_type": "code",
   "execution_count": null,
   "id": "03eddb34",
   "metadata": {},
   "outputs": [
    {
     "data": {
      "text/plain": [
       "array([1, 1])"
      ]
     },
     "metadata": {},
     "output_type": "display_data"
    }
   ],
   "source": [
    "b = np.ones(2, dtype=int)\n",
    "b"
   ]
  },
  {
   "cell_type": "code",
   "execution_count": null,
   "id": "1df7fc1e",
   "metadata": {},
   "outputs": [
    {
     "data": {
      "text/plain": [
       "array([3, 4])"
      ]
     },
     "metadata": {},
     "output_type": "display_data"
    }
   ],
   "source": [
    "c = a+b\n",
    "c"
   ]
  },
  {
   "cell_type": "markdown",
   "id": "4a7c5d1f",
   "metadata": {},
   "source": [
    "### 3.3.1 Basic Operations of 2D Array (Addition, Subtraction, Multiplication & Division) "
   ]
  },
  {
   "cell_type": "markdown",
   "id": "712e347a",
   "metadata": {},
   "source": [
    "> You can add and multiply them using arithmetic operators if you have two matrices that are the same size."
   ]
  },
  {
   "cell_type": "code",
   "execution_count": null,
   "id": "bb58c344",
   "metadata": {},
   "outputs": [
    {
     "data": {
      "text/plain": [
       "array([[2, 3],\n",
       "       [4, 5]])"
      ]
     },
     "metadata": {},
     "output_type": "display_data"
    }
   ],
   "source": [
    "a = np.array([[1, 2], [3, 4]])\n",
    "b = np.array([[1, 1], [1, 1]])\n",
    "a + b"
   ]
  },
  {
   "cell_type": "markdown",
   "id": "2bb60d6a",
   "metadata": {},
   "source": [
    "> You can do these arithmetic operations on matrices of different sizes, but only if one matrix has only one column or one row."
   ]
  },
  {
   "cell_type": "code",
   "execution_count": null,
   "id": "dcbf28fa",
   "metadata": {},
   "outputs": [
    {
     "data": {
      "text/plain": [
       "array([[2, 3],\n",
       "       [4, 5],\n",
       "       [6, 7]])"
      ]
     },
     "metadata": {},
     "output_type": "display_data"
    }
   ],
   "source": [
    "x = np.array([[1, 2], [3, 4], [5, 6]])\n",
    "y = np.array([[1, 1]])\n",
    "x+y"
   ]
  },
  {
   "cell_type": "markdown",
   "id": "c1dc1f0a",
   "metadata": {},
   "source": [
    ">Subtraction"
   ]
  },
  {
   "cell_type": "code",
   "execution_count": null,
   "id": "fa8acc9d",
   "metadata": {},
   "outputs": [
    {
     "data": {
      "text/plain": [
       "array([1, 2])"
      ]
     },
     "metadata": {},
     "output_type": "display_data"
    }
   ],
   "source": [
    "d = a-b\n",
    "d"
   ]
  },
  {
   "cell_type": "markdown",
   "id": "9521fac0",
   "metadata": {},
   "source": [
    "> Multiplication"
   ]
  },
  {
   "cell_type": "code",
   "execution_count": null,
   "id": "845af2d9",
   "metadata": {},
   "outputs": [
    {
     "data": {
      "text/plain": [
       "array([[ 0,  4],\n",
       "       [ 6, 12]])"
      ]
     },
     "metadata": {},
     "output_type": "display_data"
    }
   ],
   "source": [
    "e = c*d\n",
    "e"
   ]
  },
  {
   "cell_type": "markdown",
   "id": "b4a55529",
   "metadata": {},
   "source": [
    "> Division\n"
   ]
  },
  {
   "cell_type": "code",
   "execution_count": null,
   "id": "edbc056d",
   "metadata": {},
   "outputs": [
    {
     "data": {
      "text/plain": [
       "array([3., 2.])"
      ]
     },
     "metadata": {},
     "output_type": "display_data"
    }
   ],
   "source": [
    "f = c/d\n",
    "f"
   ]
  },
  {
   "cell_type": "markdown",
   "id": "3664fbf3",
   "metadata": {},
   "source": [
    "### 3.3.2 Sum of Elements in Array"
   ]
  },
  {
   "cell_type": "markdown",
   "id": "bc528ada",
   "metadata": {},
   "source": [
    ">Sum of elements in 1-D array"
   ]
  },
  {
   "cell_type": "code",
   "execution_count": null,
   "id": "74e12ec4",
   "metadata": {},
   "outputs": [
    {
     "data": {
      "text/plain": [
       "array([0, 1, 2, 3])"
      ]
     },
     "metadata": {},
     "output_type": "display_data"
    }
   ],
   "source": [
    "a = np.arange(4)\n",
    "a"
   ]
  },
  {
   "cell_type": "code",
   "execution_count": null,
   "id": "f68b9513",
   "metadata": {},
   "outputs": [
    {
     "data": {
      "text/plain": [
       "6"
      ]
     },
     "metadata": {},
     "output_type": "display_data"
    }
   ],
   "source": [
    "a.sum()"
   ]
  },
  {
   "cell_type": "markdown",
   "id": "62a79a9d",
   "metadata": {},
   "source": [
    ">Sum of elements in 2-D array"
   ]
  },
  {
   "cell_type": "code",
   "execution_count": null,
   "id": "4a676333",
   "metadata": {},
   "outputs": [
    {
     "data": {
      "text/plain": [
       "array([[1, 2],\n",
       "       [3, 4]])"
      ]
     },
     "metadata": {},
     "output_type": "display_data"
    }
   ],
   "source": [
    "a = np.array([[1,2], [3,4]])\n",
    "a"
   ]
  },
  {
   "cell_type": "markdown",
   "id": "c6c2d506",
   "metadata": {},
   "source": [
    ">sum of 2D array on 0 axis"
   ]
  },
  {
   "cell_type": "code",
   "execution_count": null,
   "id": "c5fd85dc",
   "metadata": {},
   "outputs": [
    {
     "data": {
      "text/plain": [
       "array([4, 6])"
      ]
     },
     "metadata": {},
     "output_type": "display_data"
    }
   ],
   "source": [
    "a.sum(axis = 0)"
   ]
  },
  {
   "cell_type": "markdown",
   "id": "65b4c783",
   "metadata": {},
   "source": [
    ">sum of 2D array on 1 axis"
   ]
  },
  {
   "cell_type": "code",
   "execution_count": null,
   "id": "09d5cb8b",
   "metadata": {},
   "outputs": [
    {
     "data": {
      "text/plain": [
       "array([3, 7])"
      ]
     },
     "metadata": {},
     "output_type": "display_data"
    }
   ],
   "source": [
    "a.sum(axis = 1)"
   ]
  },
  {
   "cell_type": "markdown",
   "id": "63274fc2",
   "metadata": {},
   "source": [
    ">multiplication of an scalar and vector in array"
   ]
  },
  {
   "cell_type": "code",
   "execution_count": null,
   "id": "b5eaf0ae",
   "metadata": {},
   "outputs": [
    {
     "data": {
      "text/plain": [
       "array([3., 5.])"
      ]
     },
     "metadata": {},
     "output_type": "display_data"
    }
   ],
   "source": [
    "a = np.array([1.5, 2.5])\n",
    "a * 2"
   ]
  },
  {
   "cell_type": "markdown",
   "id": "83ff4562",
   "metadata": {},
   "source": [
    "## Section 3.4: Basic Statistical Operations in Arrays\n",
    "> To find out maximum and minimum, sum, mean, product, standard deviation"
   ]
  },
  {
   "cell_type": "markdown",
   "id": "6b8080a8",
   "metadata": {},
   "source": [
    "> 1-D Array"
   ]
  },
  {
   "cell_type": "code",
   "execution_count": null,
   "id": "cca724f4",
   "metadata": {},
   "outputs": [
    {
     "data": {
      "text/plain": [
       "array([1, 2, 3, 4, 5, 6, 7, 8, 9])"
      ]
     },
     "metadata": {},
     "output_type": "display_data"
    }
   ],
   "source": [
    "a = np.arange(1,10)\n",
    "a"
   ]
  },
  {
   "cell_type": "code",
   "execution_count": null,
   "id": "7845f6de",
   "metadata": {},
   "outputs": [
    {
     "data": {
      "text/plain": [
       "1"
      ]
     },
     "metadata": {},
     "output_type": "display_data"
    }
   ],
   "source": [
    "a.min()"
   ]
  },
  {
   "cell_type": "code",
   "execution_count": null,
   "id": "50c61157",
   "metadata": {},
   "outputs": [
    {
     "data": {
      "text/plain": [
       "9"
      ]
     },
     "metadata": {},
     "output_type": "display_data"
    }
   ],
   "source": [
    "a.max()"
   ]
  },
  {
   "cell_type": "code",
   "execution_count": null,
   "id": "5f9a04af",
   "metadata": {},
   "outputs": [
    {
     "data": {
      "text/plain": [
       "45"
      ]
     },
     "metadata": {},
     "output_type": "display_data"
    }
   ],
   "source": [
    "a.sum()"
   ]
  },
  {
   "cell_type": "code",
   "execution_count": null,
   "id": "4d6f4f78",
   "metadata": {},
   "outputs": [
    {
     "data": {
      "text/plain": [
       "362880"
      ]
     },
     "metadata": {},
     "output_type": "display_data"
    }
   ],
   "source": [
    "a.prod()"
   ]
  },
  {
   "cell_type": "code",
   "execution_count": null,
   "id": "32225504",
   "metadata": {},
   "outputs": [
    {
     "data": {
      "text/plain": [
       "2.581988897471611"
      ]
     },
     "metadata": {},
     "output_type": "display_data"
    }
   ],
   "source": [
    "a.std()"
   ]
  },
  {
   "cell_type": "markdown",
   "id": "fd8a9b75",
   "metadata": {},
   "source": [
    "> 2-D Array"
   ]
  },
  {
   "cell_type": "code",
   "execution_count": null,
   "id": "912b5749",
   "metadata": {},
   "outputs": [
    {
     "data": {
      "text/plain": [
       "4.8595784"
      ]
     },
     "metadata": {},
     "output_type": "display_data"
    }
   ],
   "source": [
    "a = np.array([[0.45053314, 0.17296777, 0.34376245, 0.5510652],\n",
    "              [0.54627315, 0.05093587, 0.40067661, 0.55645993],\n",
    "              [0.12697628, 0.82485143, 0.26590556, 0.56917101]])\n",
    "a.sum()"
   ]
  },
  {
   "cell_type": "code",
   "execution_count": null,
   "id": "a582957e",
   "metadata": {},
   "outputs": [
    {
     "data": {
      "text/plain": [
       "array([[0.17296777, 0.34376245, 0.45053314, 0.5510652 ],\n",
       "       [0.05093587, 0.40067661, 0.54627315, 0.55645993],\n",
       "       [0.12697628, 0.26590556, 0.56917101, 0.82485143]])"
      ]
     },
     "metadata": {},
     "output_type": "display_data"
    }
   ],
   "source": [
    "a.sort()\n",
    "a"
   ]
  },
  {
   "cell_type": "code",
   "execution_count": null,
   "id": "84a8d259",
   "metadata": {},
   "outputs": [
    {
     "data": {
      "text/plain": [
       "0.05093587"
      ]
     },
     "metadata": {},
     "output_type": "display_data"
    }
   ],
   "source": [
    "a.min()"
   ]
  },
  {
   "cell_type": "code",
   "execution_count": null,
   "id": "a1e4fb01",
   "metadata": {},
   "outputs": [
    {
     "data": {
      "text/plain": [
       "0.82485143"
      ]
     },
     "metadata": {},
     "output_type": "display_data"
    }
   ],
   "source": [
    "a.max()"
   ]
  },
  {
   "cell_type": "markdown",
   "id": "6befe519",
   "metadata": {},
   "source": [
    "> Minimum and Maximum in 2-D Array at specific axis"
   ]
  },
  {
   "cell_type": "markdown",
   "id": "8bd6a746",
   "metadata": {},
   "source": [
    "> when we use axis=0 to specify the axis. it takes minimum value from each column\n",
    "> \n",
    "> **Imp: axis = 0 gives output as row but scan in vertical way to find minimum value**"
   ]
  },
  {
   "cell_type": "code",
   "execution_count": null,
   "id": "69adf977",
   "metadata": {},
   "outputs": [
    {
     "data": {
      "text/plain": [
       "array([0.05093587, 0.26590556, 0.45053314, 0.5510652 ])"
      ]
     },
     "metadata": {},
     "output_type": "display_data"
    }
   ],
   "source": [
    "a.min(axis=0)"
   ]
  },
  {
   "cell_type": "markdown",
   "id": "1d23fcd9",
   "metadata": {},
   "source": [
    ">when we use axis=1 to specify the axis. it takes minimum value from each row\n",
    ">\n",
    ">**Imp: axis = 1 gives output as column but scan in horizontal way to find minimum value**"
   ]
  },
  {
   "cell_type": "code",
   "execution_count": null,
   "id": "a037f9d6",
   "metadata": {},
   "outputs": [
    {
     "data": {
      "text/plain": [
       "array([0.17296777, 0.05093587, 0.12697628])"
      ]
     },
     "metadata": {},
     "output_type": "display_data"
    }
   ],
   "source": [
    "a.min(axis=1)"
   ]
  },
  {
   "cell_type": "markdown",
   "id": "e80e02ab",
   "metadata": {},
   "source": [
    "> when we use axis=0 to specify the axis. it takes maximum value from each column\n",
    "> \n",
    "> **Imp: axis = 0 gives output as row but scan in vertical way to find maximum value**"
   ]
  },
  {
   "cell_type": "code",
   "execution_count": null,
   "id": "1e81174f",
   "metadata": {},
   "outputs": [
    {
     "data": {
      "text/plain": [
       "array([0.17296777, 0.40067661, 0.56917101, 0.82485143])"
      ]
     },
     "metadata": {},
     "output_type": "display_data"
    }
   ],
   "source": [
    "a.max(axis=0)"
   ]
  },
  {
   "cell_type": "markdown",
   "id": "c9425af6",
   "metadata": {},
   "source": [
    "> when we use axis=1 to specify the axis. it takes maximum value from each row\n",
    "> \n",
    "> **Imp: axis = 1 gives output as column but scan in horizontal way to find maximum value**"
   ]
  },
  {
   "cell_type": "code",
   "execution_count": null,
   "id": "4a0c8c85",
   "metadata": {},
   "outputs": [
    {
     "data": {
      "text/plain": [
       "array([0.5510652 , 0.55645993, 0.82485143])"
      ]
     },
     "metadata": {},
     "output_type": "display_data"
    }
   ],
   "source": [
    "a.max(axis=1)"
   ]
  },
  {
   "cell_type": "code",
   "execution_count": null,
   "id": "d3ba7dd9",
   "metadata": {},
   "outputs": [
    {
     "data": {
      "text/plain": [
       "1.451721612088471e-06"
      ]
     },
     "metadata": {},
     "output_type": "display_data"
    }
   ],
   "source": [
    "a.prod()"
   ]
  },
  {
   "cell_type": "code",
   "execution_count": null,
   "id": "b16b16d3",
   "metadata": {},
   "outputs": [
    {
     "data": {
      "text/plain": [
       "0.21392120766089617"
      ]
     },
     "metadata": {},
     "output_type": "display_data"
    }
   ],
   "source": [
    "a.std()"
   ]
  },
  {
   "cell_type": "markdown",
   "id": "4acd2eaf",
   "metadata": {},
   "source": [
    "## Section 3.5: Indexing 2-D Array"
   ]
  },
  {
   "cell_type": "code",
   "execution_count": null,
   "id": "12fd7121",
   "metadata": {},
   "outputs": [
    {
     "data": {
      "text/plain": [
       "array([[1, 2],\n",
       "       [3, 4],\n",
       "       [5, 6]])"
      ]
     },
     "metadata": {},
     "output_type": "display_data"
    }
   ],
   "source": [
    "x = np.array([[1, 2], [3, 4], [5, 6]])\n",
    "x"
   ]
  },
  {
   "cell_type": "markdown",
   "id": "d8720cae",
   "metadata": {},
   "source": [
    "> In two dimensional array index (0, 1) here (Row = 0, Column = 1), Index will be the intersecting point of both Row and Column"
   ]
  },
  {
   "cell_type": "code",
   "execution_count": null,
   "id": "976ccbac",
   "metadata": {},
   "outputs": [
    {
     "data": {
      "text/plain": [
       "2"
      ]
     },
     "metadata": {},
     "output_type": "display_data"
    }
   ],
   "source": [
    "x[0 , 1]"
   ]
  },
  {
   "cell_type": "markdown",
   "id": "358bbd0a",
   "metadata": {},
   "source": [
    "> In 2-D array index (1:3, 1) or ((1,2), 1) here (Row, Column), Index will be the intersecting point of both Row and Column"
   ]
  },
  {
   "cell_type": "code",
   "execution_count": null,
   "id": "23c611e2",
   "metadata": {},
   "outputs": [
    {
     "data": {
      "text/plain": [
       "array([4, 6])"
      ]
     },
     "metadata": {},
     "output_type": "display_data"
    }
   ],
   "source": [
    "x[1:3, 1]"
   ]
  },
  {
   "cell_type": "markdown",
   "id": "6509f172",
   "metadata": {},
   "source": [
    "> In 2-D array index (1:3) or ((1,2), empty) here (Row = 1,2, Column = empty), Index will be on Row 1 & 2"
   ]
  },
  {
   "cell_type": "code",
   "execution_count": null,
   "id": "df808d95",
   "metadata": {},
   "outputs": [
    {
     "data": {
      "text/plain": [
       "array([[3, 4],\n",
       "       [5, 6]])"
      ]
     },
     "metadata": {},
     "output_type": "display_data"
    }
   ],
   "source": [
    "x[1:3]"
   ]
  },
  {
   "cell_type": "markdown",
   "id": "507df4ee",
   "metadata": {},
   "source": [
    "> Maximum and Minimum in 2-D Array"
   ]
  },
  {
   "cell_type": "code",
   "execution_count": null,
   "id": "8822fae0",
   "metadata": {},
   "outputs": [
    {
     "data": {
      "text/plain": [
       "6"
      ]
     },
     "metadata": {},
     "output_type": "display_data"
    }
   ],
   "source": [
    "x.max()"
   ]
  },
  {
   "cell_type": "code",
   "execution_count": null,
   "id": "1ddaa1ff",
   "metadata": {},
   "outputs": [
    {
     "data": {
      "text/plain": [
       "1"
      ]
     },
     "metadata": {},
     "output_type": "display_data"
    }
   ],
   "source": [
    "x.min()"
   ]
  },
  {
   "cell_type": "markdown",
   "id": "19dd4b88",
   "metadata": {},
   "source": [
    "> when we use axis=0 to specify the axis. it takes maximum value from each column\n",
    "> \n",
    "> **Imp: axis = 0 gives output as row but scan in vertical way to find maximum value**\n"
   ]
  },
  {
   "cell_type": "code",
   "execution_count": null,
   "id": "a959bee2",
   "metadata": {},
   "outputs": [
    {
     "data": {
      "text/plain": [
       "array([5, 6])"
      ]
     },
     "metadata": {},
     "output_type": "display_data"
    }
   ],
   "source": [
    "x.max(axis=0)"
   ]
  },
  {
   "cell_type": "markdown",
   "id": "3b613838",
   "metadata": {},
   "source": [
    "> when we use axis=1 to specify the axis. it takes maximum value from each row\n",
    "> \n",
    "> **Imp: axis = 1 gives output as column but scan in horizontal way to find maximum value**"
   ]
  },
  {
   "cell_type": "code",
   "execution_count": null,
   "id": "b5286d6f",
   "metadata": {},
   "outputs": [
    {
     "data": {
      "text/plain": [
       "array([2, 4, 6])"
      ]
     },
     "metadata": {},
     "output_type": "display_data"
    }
   ],
   "source": [
    "x.max(axis=1)"
   ]
  },
  {
   "cell_type": "markdown",
   "id": "c700c78a",
   "metadata": {},
   "source": [
    "> aggregate matrices the same way you aggregated vectors"
   ]
  },
  {
   "cell_type": "code",
   "execution_count": null,
   "id": "f672a8b5",
   "metadata": {},
   "outputs": [
    {
     "data": {
      "text/plain": [
       "21"
      ]
     },
     "metadata": {},
     "output_type": "display_data"
    }
   ],
   "source": [
    "x.sum()"
   ]
  },
  {
   "cell_type": "markdown",
   "id": "4474171d",
   "metadata": {},
   "source": [
    "## Section 3.6: Random, Rerverse, Reshape & Transpose of an Array"
   ]
  },
  {
   "cell_type": "markdown",
   "id": "83fbef5d",
   "metadata": {},
   "source": [
    "> the simplest way to generate random numbers"
   ]
  },
  {
   "cell_type": "code",
   "execution_count": null,
   "id": "e968f798",
   "metadata": {},
   "outputs": [
    {
     "data": {
      "text/plain": [
       "array([0.63696169, 0.26978671, 0.04097352, 0.01652764, 0.81327024])"
      ]
     },
     "metadata": {},
     "output_type": "display_data"
    }
   ],
   "source": [
    "r = np.random.default_rng(0)\n",
    "r.random(5)"
   ]
  },
  {
   "cell_type": "markdown",
   "id": "3257cbab",
   "metadata": {},
   "source": [
    "> ones(), zeros(), and random() to create a 2D array"
   ]
  },
  {
   "cell_type": "code",
   "execution_count": null,
   "id": "a061ced1",
   "metadata": {},
   "outputs": [
    {
     "data": {
      "text/plain": [
       "array([[0., 0.],\n",
       "       [0., 0.],\n",
       "       [0., 0.]])"
      ]
     },
     "metadata": {},
     "output_type": "display_data"
    }
   ],
   "source": [
    "a = np.zeros((3,2))\n",
    "a"
   ]
  },
  {
   "cell_type": "code",
   "execution_count": null,
   "id": "de137a40",
   "metadata": {},
   "outputs": [
    {
     "data": {
      "text/plain": [
       "array([[1., 1., 1., 1.],\n",
       "       [1., 1., 1., 1.],\n",
       "       [1., 1., 1., 1.]])"
      ]
     },
     "metadata": {},
     "output_type": "display_data"
    }
   ],
   "source": [
    "b = np.ones((3,4))\n",
    "b"
   ]
  },
  {
   "cell_type": "code",
   "execution_count": null,
   "id": "40a7fee3",
   "metadata": {},
   "outputs": [
    {
     "data": {
      "text/plain": [
       "array([[0.91275558, 0.60663578, 0.72949656, 0.54362499, 0.93507242],\n",
       "       [0.81585355, 0.0027385 , 0.85740428, 0.03358558, 0.72965545],\n",
       "       [0.17565562, 0.86317892, 0.54146122, 0.29971189, 0.42268722],\n",
       "       [0.02831967, 0.12428328, 0.67062441, 0.64718951, 0.61538511]])"
      ]
     },
     "metadata": {},
     "output_type": "display_data"
    }
   ],
   "source": [
    "r.random((4,5))"
   ]
  },
  {
   "cell_type": "markdown",
   "id": "63c991ee",
   "metadata": {},
   "source": [
    "> unique items in 1D array (non-repetative items)"
   ]
  },
  {
   "cell_type": "code",
   "execution_count": null,
   "id": "291fce71",
   "metadata": {},
   "outputs": [
    {
     "data": {
      "text/plain": [
       "array([11, 12, 13, 14, 15, 16, 17, 18, 19, 20])"
      ]
     },
     "metadata": {},
     "output_type": "display_data"
    }
   ],
   "source": [
    "a = np.array([11, 11, 12, 13, 14, 15, 16, 17, 12, 13, 11, 14, 18, 19, 20])\n",
    "b = np.unique(a)\n",
    "b"
   ]
  },
  {
   "cell_type": "markdown",
   "id": "8bb8e957",
   "metadata": {},
   "source": [
    "> Indices of unique values in the original array"
   ]
  },
  {
   "cell_type": "code",
   "execution_count": null,
   "id": "55812132",
   "metadata": {},
   "outputs": [
    {
     "data": {
      "text/plain": [
       "(array([11, 12, 13, 14, 15, 16, 17, 18, 19, 20]),\n",
       " array([ 0,  2,  3,  4,  5,  6,  7, 12, 13, 14], dtype=int64))"
      ]
     },
     "metadata": {},
     "output_type": "display_data"
    }
   ],
   "source": [
    "b = np.unique(a, return_index = True)\n",
    "b"
   ]
  },
  {
   "cell_type": "markdown",
   "id": "3ee98a43",
   "metadata": {},
   "source": [
    "> Frequency count of unique values in a NumPy array"
   ]
  },
  {
   "cell_type": "code",
   "execution_count": null,
   "id": "a4966c83",
   "metadata": {},
   "outputs": [
    {
     "data": {
      "text/plain": [
       "(array([11, 12, 13, 14, 15, 16, 17, 18, 19, 20]),\n",
       " array([3, 2, 2, 2, 1, 1, 1, 1, 1, 1], dtype=int64))"
      ]
     },
     "metadata": {},
     "output_type": "display_data"
    }
   ],
   "source": [
    "b = np.unique(a, return_counts = True)\n",
    "b"
   ]
  },
  {
   "cell_type": "markdown",
   "id": "212321f3",
   "metadata": {},
   "source": [
    "> unique items in 2D array"
   ]
  },
  {
   "cell_type": "code",
   "execution_count": null,
   "id": "7ce7d707",
   "metadata": {},
   "outputs": [
    {
     "data": {
      "text/plain": [
       "array([ 1,  2,  3,  4,  5,  6,  7,  8,  9, 10, 11, 12])"
      ]
     },
     "metadata": {},
     "output_type": "display_data"
    }
   ],
   "source": [
    "a_2d = np.array([[1, 2, 3, 4], [5, 6, 7, 8], [9, 10, 11, 12], [1, 2, 3, 4]])\n",
    "b_2d = np.unique(a_2d)\n",
    "b_2d"
   ]
  },
  {
   "cell_type": "code",
   "execution_count": null,
   "id": "94ac209e",
   "metadata": {},
   "outputs": [
    {
     "data": {
      "text/plain": [
       "(array([ 1,  2,  3,  4,  5,  6,  7,  8,  9, 10, 11, 12]),\n",
       " array([ 0,  1,  2,  3,  4,  5,  6,  7,  8,  9, 10, 11], dtype=int64),\n",
       " array([2, 2, 2, 2, 1, 1, 1, 1, 1, 1, 1, 1], dtype=int64))"
      ]
     },
     "metadata": {},
     "output_type": "display_data"
    }
   ],
   "source": [
    "b_2d = np.unique(a_2d, return_index = True, return_counts = True)\n",
    "b_2d"
   ]
  },
  {
   "cell_type": "markdown",
   "id": "657cd665",
   "metadata": {},
   "source": [
    ">Transposing and reshaping a matrix"
   ]
  },
  {
   "cell_type": "code",
   "execution_count": null,
   "id": "93d0303b",
   "metadata": {},
   "outputs": [
    {
     "data": {
      "text/plain": [
       "[[1, 2, 3], [4, 5, 6]]"
      ]
     },
     "metadata": {},
     "output_type": "display_data"
    }
   ],
   "source": [
    "a = ([[1, 2, 3],\n",
    "      [4, 5, 6]])\n",
    "a"
   ]
  },
  {
   "cell_type": "code",
   "execution_count": null,
   "id": "b41d7309",
   "metadata": {},
   "outputs": [
    {
     "data": {
      "text/plain": [
       "(2, 3)"
      ]
     },
     "metadata": {},
     "output_type": "display_data"
    }
   ],
   "source": [
    "np.shape(a)"
   ]
  },
  {
   "cell_type": "code",
   "execution_count": null,
   "id": "5cb790e8",
   "metadata": {},
   "outputs": [
    {
     "data": {
      "text/plain": [
       "array([[0, 1, 2],\n",
       "       [3, 4, 5]])"
      ]
     },
     "metadata": {},
     "output_type": "display_data"
    }
   ],
   "source": [
    "a = np.arange(6).reshape((2, 3))\n",
    "a"
   ]
  },
  {
   "cell_type": "code",
   "execution_count": null,
   "id": "54cb9b2e",
   "metadata": {},
   "outputs": [
    {
     "data": {
      "text/plain": [
       "array([[0, 3],\n",
       "       [1, 4],\n",
       "       [2, 5]])"
      ]
     },
     "metadata": {},
     "output_type": "display_data"
    }
   ],
   "source": [
    "a.transpose()"
   ]
  },
  {
   "cell_type": "markdown",
   "id": "eee5576d",
   "metadata": {},
   "source": [
    "> reverse an 1D array"
   ]
  },
  {
   "cell_type": "code",
   "execution_count": null,
   "id": "84892e2b",
   "metadata": {},
   "outputs": [
    {
     "data": {
      "text/plain": [
       "array([1, 2, 3, 4, 5, 6, 7, 8])"
      ]
     },
     "metadata": {},
     "output_type": "display_data"
    }
   ],
   "source": [
    "a = np.array([1, 2, 3, 4, 5, 6, 7, 8])\n",
    "a"
   ]
  },
  {
   "cell_type": "code",
   "execution_count": null,
   "id": "4e0f7eef",
   "metadata": {},
   "outputs": [
    {
     "data": {
      "text/plain": [
       "array([8, 7, 6, 5, 4, 3, 2, 1])"
      ]
     },
     "metadata": {},
     "output_type": "display_data"
    }
   ],
   "source": [
    "b= np.flip(a)\n",
    "b"
   ]
  },
  {
   "cell_type": "markdown",
   "id": "7664b607",
   "metadata": {},
   "source": [
    "> reverse an 2D array"
   ]
  },
  {
   "cell_type": "code",
   "execution_count": null,
   "id": "ebbea515",
   "metadata": {},
   "outputs": [
    {
     "data": {
      "text/plain": [
       "array([[ 1,  2,  3,  4],\n",
       "       [ 5,  6,  7,  8],\n",
       "       [ 9, 10, 11, 12]])"
      ]
     },
     "metadata": {},
     "output_type": "display_data"
    }
   ],
   "source": [
    "a_2d = np.array([[1, 2, 3, 4], [5, 6, 7, 8], [9, 10, 11, 12]])\n",
    "a_2d"
   ]
  },
  {
   "cell_type": "code",
   "execution_count": null,
   "id": "e4cca575",
   "metadata": {},
   "outputs": [
    {
     "data": {
      "text/plain": [
       "array([[12, 11, 10,  9],\n",
       "       [ 8,  7,  6,  5],\n",
       "       [ 4,  3,  2,  1]])"
      ]
     },
     "metadata": {},
     "output_type": "display_data"
    }
   ],
   "source": [
    "b_2d = np.flip(a_2d)\n",
    "b_2d"
   ]
  },
  {
   "cell_type": "markdown",
   "id": "0b788cff",
   "metadata": {},
   "source": [
    "> reverse only the columns"
   ]
  },
  {
   "cell_type": "code",
   "execution_count": null,
   "id": "0ebc3d00",
   "metadata": {},
   "outputs": [
    {
     "data": {
      "text/plain": [
       "array([[ 9, 10, 11, 12],\n",
       "       [ 5,  6,  7,  8],\n",
       "       [ 1,  2,  3,  4]])"
      ]
     },
     "metadata": {},
     "output_type": "display_data"
    }
   ],
   "source": [
    "b_2d = np.flip(a_2d, axis = 0)\n",
    "b_2d"
   ]
  },
  {
   "cell_type": "markdown",
   "id": "7be0813b",
   "metadata": {},
   "source": [
    "> reverse only the rows"
   ]
  },
  {
   "cell_type": "code",
   "execution_count": null,
   "id": "452fe903",
   "metadata": {},
   "outputs": [
    {
     "data": {
      "text/plain": [
       "array([[ 4,  3,  2,  1],\n",
       "       [ 8,  7,  6,  5],\n",
       "       [12, 11, 10,  9]])"
      ]
     },
     "metadata": {},
     "output_type": "display_data"
    }
   ],
   "source": [
    "b_2d = np.flip(a_2d, axis = 1)\n",
    "b_2d"
   ]
  },
  {
   "cell_type": "markdown",
   "id": "dba11c66",
   "metadata": {},
   "source": [
    "> reverse the contents of only one column or row"
   ]
  },
  {
   "cell_type": "code",
   "execution_count": null,
   "id": "999f7de9",
   "metadata": {},
   "outputs": [
    {
     "data": {
      "text/plain": [
       "array([[ 1,  2,  3,  4],\n",
       "       [ 5,  6,  7,  8],\n",
       "       [ 9, 10, 11, 12]])"
      ]
     },
     "metadata": {},
     "output_type": "display_data"
    }
   ],
   "source": [
    "a_2d = np.array([[1, 2, 3, 4], [5, 6, 7, 8], [9, 10, 11, 12]])\n",
    "a_2d"
   ]
  },
  {
   "cell_type": "markdown",
   "id": "4c41ec50",
   "metadata": {},
   "source": [
    "> reverse the contents of the row at index position 1"
   ]
  },
  {
   "cell_type": "code",
   "execution_count": null,
   "id": "4c0139df",
   "metadata": {},
   "outputs": [
    {
     "data": {
      "text/plain": [
       "array([[ 1,  2,  3,  4],\n",
       "       [ 8,  7,  6,  5],\n",
       "       [ 9, 10, 11, 12]])"
      ]
     },
     "metadata": {},
     "output_type": "display_data"
    }
   ],
   "source": [
    "a_2d[1] = np.flip(a_2d[1])\n",
    "a_2d"
   ]
  },
  {
   "cell_type": "markdown",
   "id": "258f256f",
   "metadata": {},
   "source": [
    "> reverse the contents of the column at index position 0"
   ]
  },
  {
   "cell_type": "code",
   "execution_count": null,
   "id": "872c44f1",
   "metadata": {},
   "outputs": [
    {
     "data": {
      "text/plain": [
       "array([[ 9,  2,  3,  4],\n",
       "       [ 5,  6,  7,  8],\n",
       "       [ 1, 10, 11, 12]])"
      ]
     },
     "metadata": {},
     "output_type": "display_data"
    }
   ],
   "source": [
    "a_2d[:,0] = np.flip(a_2d[:,0])\n",
    "a_2d"
   ]
  },
  {
   "cell_type": "markdown",
   "id": "4610dd70",
   "metadata": {},
   "source": [
    "## Section 3.7: Reshaping and Flattening Multidimensional Arrays"
   ]
  },
  {
   "cell_type": "code",
   "execution_count": null,
   "id": "a8e69391",
   "metadata": {},
   "outputs": [
    {
     "data": {
      "text/plain": [
       "array([[ 1,  2,  3,  4],\n",
       "       [ 5,  6,  7,  8],\n",
       "       [ 9, 10, 11, 12]])"
      ]
     },
     "metadata": {},
     "output_type": "display_data"
    }
   ],
   "source": [
    "x = np.array([[1 , 2, 3, 4], [5, 6, 7, 8], [9, 10, 11, 12]])\n",
    "x"
   ]
  },
  {
   "cell_type": "markdown",
   "id": "faa16b7b",
   "metadata": {},
   "source": [
    ">When you use flatten, changes to your new array won’t change the parent array"
   ]
  },
  {
   "cell_type": "code",
   "execution_count": null,
   "id": "a1dd74e2",
   "metadata": {},
   "outputs": [
    {
     "data": {
      "text/plain": [
       "array([ 1, 22,  3,  4,  5,  6,  7,  8,  9, 10, 11, 12])"
      ]
     },
     "metadata": {},
     "output_type": "display_data"
    }
   ],
   "source": [
    "x1 = x.flatten()\n",
    "x1[1] = 22\n",
    "x1"
   ]
  },
  {
   "cell_type": "code",
   "execution_count": null,
   "id": "8fafc4d1",
   "metadata": {},
   "outputs": [
    {
     "data": {
      "text/plain": [
       "array([[ 1,  2,  3,  4],\n",
       "       [ 5,  6,  7,  8],\n",
       "       [ 9, 10, 11, 12]])"
      ]
     },
     "metadata": {},
     "output_type": "display_data"
    }
   ],
   "source": [
    "x"
   ]
  },
  {
   "cell_type": "markdown",
   "id": "76dcb73f",
   "metadata": {},
   "source": [
    "> when you use ravel, the changes you make to the new array will affect the parent array."
   ]
  },
  {
   "cell_type": "code",
   "execution_count": null,
   "id": "9557b503",
   "metadata": {},
   "outputs": [
    {
     "data": {
      "text/plain": [
       "array([ 1, 25,  3,  4,  5,  6,  7,  8,  9, 10, 11, 12])"
      ]
     },
     "metadata": {},
     "output_type": "display_data"
    }
   ],
   "source": [
    "x1 = x.ravel()\n",
    "x1[1] = 25\n",
    "x1"
   ]
  },
  {
   "cell_type": "code",
   "execution_count": null,
   "id": "861a2ad0",
   "metadata": {},
   "outputs": [
    {
     "data": {
      "text/plain": [
       "array([[ 1, 25,  3,  4],\n",
       "       [ 5,  6,  7,  8],\n",
       "       [ 9, 10, 11, 12]])"
      ]
     },
     "metadata": {},
     "output_type": "display_data"
    }
   ],
   "source": [
    "x"
   ]
  },
  {
   "cell_type": "markdown",
   "metadata": {},
   "source": [
    "-----------------\n",
    "-----------------"
   ]
  }
 ],
 "metadata": {
  "language_info": {
   "name": "python"
  },
  "orig_nbformat": 4
 },
 "nbformat": 4,
 "nbformat_minor": 2
}
